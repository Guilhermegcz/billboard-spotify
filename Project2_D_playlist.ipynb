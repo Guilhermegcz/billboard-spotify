{
 "cells": [
  {
   "cell_type": "markdown",
   "metadata": {},
   "source": [
    "# CRIA UMA PLAYLIST A PARTIR DE UMA LISTA"
   ]
  },
  {
   "cell_type": "code",
   "execution_count": 7,
   "metadata": {},
   "outputs": [],
   "source": [
    "import pandas as pd\n",
    "import json\n",
    "import requests"
   ]
  },
  {
   "cell_type": "markdown",
   "metadata": {},
   "source": [
    "### IMPORTANDO SENHAS"
   ]
  },
  {
   "cell_type": "code",
   "execution_count": 8,
   "metadata": {},
   "outputs": [],
   "source": [
    "from config_spot import id_conta\n",
    "from config_spot import senha_conta"
   ]
  },
  {
   "cell_type": "markdown",
   "metadata": {},
   "source": [
    "### CARREGANDO DATAFRAME "
   ]
  },
  {
   "cell_type": "code",
   "execution_count": 9,
   "metadata": {},
   "outputs": [],
   "source": [
    "path = 'C:/Users/dell/IRONHACK/Ironhack-project/Project2_data-gathering'"
   ]
  },
  {
   "cell_type": "code",
   "execution_count": 10,
   "metadata": {},
   "outputs": [],
   "source": [
    "year_billboard_infos = pd.read_csv(path + '/year_billboard_infos.csv')"
   ]
  },
  {
   "cell_type": "code",
   "execution_count": 11,
   "metadata": {},
   "outputs": [
    {
     "data": {
      "text/html": [
       "<div>\n",
       "<style scoped>\n",
       "    .dataframe tbody tr th:only-of-type {\n",
       "        vertical-align: middle;\n",
       "    }\n",
       "\n",
       "    .dataframe tbody tr th {\n",
       "        vertical-align: top;\n",
       "    }\n",
       "\n",
       "    .dataframe thead th {\n",
       "        text-align: right;\n",
       "    }\n",
       "</style>\n",
       "<table border=\"1\" class=\"dataframe\">\n",
       "  <thead>\n",
       "    <tr style=\"text-align: right;\">\n",
       "      <th></th>\n",
       "      <th>rank</th>\n",
       "      <th>music</th>\n",
       "      <th>main_artist</th>\n",
       "      <th>year</th>\n",
       "      <th>featuring1</th>\n",
       "      <th>featuring2</th>\n",
       "      <th>photo</th>\n",
       "      <th>id_music</th>\n",
       "      <th>id_position</th>\n",
       "      <th>danceability</th>\n",
       "      <th>energy</th>\n",
       "      <th>loudness</th>\n",
       "      <th>speechiness</th>\n",
       "      <th>acousticness</th>\n",
       "      <th>instrumentalness</th>\n",
       "      <th>tempo</th>\n",
       "      <th>uri</th>\n",
       "      <th>duration_ms</th>\n",
       "    </tr>\n",
       "  </thead>\n",
       "  <tbody>\n",
       "    <tr>\n",
       "      <th>0</th>\n",
       "      <td>1</td>\n",
       "      <td>Bad Day</td>\n",
       "      <td>Daniel Powter</td>\n",
       "      <td>2006</td>\n",
       "      <td>NaN</td>\n",
       "      <td>NaN</td>\n",
       "      <td>https://charts-static.billboard.com/img/1840/1...</td>\n",
       "      <td>0mUyMawtxj1CJ76kn9gIZK</td>\n",
       "      <td>0</td>\n",
       "      <td>0.599</td>\n",
       "      <td>0.785</td>\n",
       "      <td>-4.013</td>\n",
       "      <td>0.0309</td>\n",
       "      <td>0.448</td>\n",
       "      <td>0.003360</td>\n",
       "      <td>140.046</td>\n",
       "      <td>spotify:track:0mUyMawtxj1CJ76kn9gIZK</td>\n",
       "      <td>233640.0</td>\n",
       "    </tr>\n",
       "    <tr>\n",
       "      <th>1</th>\n",
       "      <td>2</td>\n",
       "      <td>Temperature</td>\n",
       "      <td>Sean Paul</td>\n",
       "      <td>2006</td>\n",
       "      <td>NaN</td>\n",
       "      <td>NaN</td>\n",
       "      <td>https://charts-static.billboard.com/img/2005/1...</td>\n",
       "      <td>0k2GOhqsrxDTAbFFSdNJjT</td>\n",
       "      <td>1</td>\n",
       "      <td>0.951</td>\n",
       "      <td>0.600</td>\n",
       "      <td>-4.675</td>\n",
       "      <td>0.0685</td>\n",
       "      <td>0.106</td>\n",
       "      <td>0.000000</td>\n",
       "      <td>125.040</td>\n",
       "      <td>spotify:track:0k2GOhqsrxDTAbFFSdNJjT</td>\n",
       "      <td>218573.0</td>\n",
       "    </tr>\n",
       "    <tr>\n",
       "      <th>2</th>\n",
       "      <td>3</td>\n",
       "      <td>Promiscuous</td>\n",
       "      <td>Nelly Furtado</td>\n",
       "      <td>2006</td>\n",
       "      <td>Timbaland</td>\n",
       "      <td>NaN</td>\n",
       "      <td>https://charts-static.billboard.com/img/2006/0...</td>\n",
       "      <td>47aQT2aV12TyilaoYi1NiD</td>\n",
       "      <td>2</td>\n",
       "      <td>0.795</td>\n",
       "      <td>0.978</td>\n",
       "      <td>-6.097</td>\n",
       "      <td>0.0459</td>\n",
       "      <td>0.046</td>\n",
       "      <td>0.000083</td>\n",
       "      <td>114.321</td>\n",
       "      <td>spotify:track:47aQT2aV12TyilaoYi1NiD</td>\n",
       "      <td>242200.0</td>\n",
       "    </tr>\n",
       "    <tr>\n",
       "      <th>3</th>\n",
       "      <td>4</td>\n",
       "      <td>You're Beautiful</td>\n",
       "      <td>James Blunt</td>\n",
       "      <td>2006</td>\n",
       "      <td>NaN</td>\n",
       "      <td>NaN</td>\n",
       "      <td>https://charts-static.billboard.com/img/2005/0...</td>\n",
       "      <td>NaN</td>\n",
       "      <td>3</td>\n",
       "      <td>NaN</td>\n",
       "      <td>NaN</td>\n",
       "      <td>NaN</td>\n",
       "      <td>NaN</td>\n",
       "      <td>NaN</td>\n",
       "      <td>NaN</td>\n",
       "      <td>NaN</td>\n",
       "      <td>NaN</td>\n",
       "      <td>NaN</td>\n",
       "    </tr>\n",
       "    <tr>\n",
       "      <th>4</th>\n",
       "      <td>5</td>\n",
       "      <td>Hips Don't Lie</td>\n",
       "      <td>Shakira</td>\n",
       "      <td>2006</td>\n",
       "      <td>Wyclef Jean</td>\n",
       "      <td>NaN</td>\n",
       "      <td>https://charts-static.billboard.com/img/2006/0...</td>\n",
       "      <td>3ZFTkvIE7kyPt6Nu3PEa7V</td>\n",
       "      <td>4</td>\n",
       "      <td>0.778</td>\n",
       "      <td>0.824</td>\n",
       "      <td>-5.892</td>\n",
       "      <td>0.0712</td>\n",
       "      <td>0.284</td>\n",
       "      <td>0.000000</td>\n",
       "      <td>100.024</td>\n",
       "      <td>spotify:track:3ZFTkvIE7kyPt6Nu3PEa7V</td>\n",
       "      <td>218093.0</td>\n",
       "    </tr>\n",
       "  </tbody>\n",
       "</table>\n",
       "</div>"
      ],
      "text/plain": [
       "   rank             music    main_artist  year   featuring1 featuring2  \\\n",
       "0     1           Bad Day  Daniel Powter  2006          NaN        NaN   \n",
       "1     2       Temperature      Sean Paul  2006          NaN        NaN   \n",
       "2     3       Promiscuous  Nelly Furtado  2006    Timbaland        NaN   \n",
       "3     4  You're Beautiful    James Blunt  2006          NaN        NaN   \n",
       "4     5    Hips Don't Lie        Shakira  2006  Wyclef Jean        NaN   \n",
       "\n",
       "                                               photo                id_music  \\\n",
       "0  https://charts-static.billboard.com/img/1840/1...  0mUyMawtxj1CJ76kn9gIZK   \n",
       "1  https://charts-static.billboard.com/img/2005/1...  0k2GOhqsrxDTAbFFSdNJjT   \n",
       "2  https://charts-static.billboard.com/img/2006/0...  47aQT2aV12TyilaoYi1NiD   \n",
       "3  https://charts-static.billboard.com/img/2005/0...                     NaN   \n",
       "4  https://charts-static.billboard.com/img/2006/0...  3ZFTkvIE7kyPt6Nu3PEa7V   \n",
       "\n",
       "   id_position  danceability  energy  loudness  speechiness  acousticness  \\\n",
       "0            0         0.599   0.785    -4.013       0.0309         0.448   \n",
       "1            1         0.951   0.600    -4.675       0.0685         0.106   \n",
       "2            2         0.795   0.978    -6.097       0.0459         0.046   \n",
       "3            3           NaN     NaN       NaN          NaN           NaN   \n",
       "4            4         0.778   0.824    -5.892       0.0712         0.284   \n",
       "\n",
       "   instrumentalness    tempo                                   uri  \\\n",
       "0          0.003360  140.046  spotify:track:0mUyMawtxj1CJ76kn9gIZK   \n",
       "1          0.000000  125.040  spotify:track:0k2GOhqsrxDTAbFFSdNJjT   \n",
       "2          0.000083  114.321  spotify:track:47aQT2aV12TyilaoYi1NiD   \n",
       "3               NaN      NaN                                   NaN   \n",
       "4          0.000000  100.024  spotify:track:3ZFTkvIE7kyPt6Nu3PEa7V   \n",
       "\n",
       "   duration_ms  \n",
       "0     233640.0  \n",
       "1     218573.0  \n",
       "2     242200.0  \n",
       "3          NaN  \n",
       "4     218093.0  "
      ]
     },
     "execution_count": 11,
     "metadata": {},
     "output_type": "execute_result"
    }
   ],
   "source": [
    "year_billboard_infos.head()"
   ]
  },
  {
   "cell_type": "code",
   "execution_count": 96,
   "metadata": {},
   "outputs": [],
   "source": [
    "mask1 = year_billboard_infos['rank'] <= 3"
   ]
  },
  {
   "cell_type": "code",
   "execution_count": 99,
   "metadata": {},
   "outputs": [],
   "source": [
    "mask2 = year_billboard_infos['uri'] == year_billboard_infos['uri']"
   ]
  },
  {
   "cell_type": "code",
   "execution_count": null,
   "metadata": {},
   "outputs": [],
   "source": [
    "year_billboard_infos.loc"
   ]
  },
  {
   "cell_type": "code",
   "execution_count": 104,
   "metadata": {},
   "outputs": [],
   "source": [
    "top3_decade = year_billboard_infos.loc[mask1, ['rank','music','main_artist','uri']].loc[mask2, ['rank','music','main_artist','uri']]"
   ]
  },
  {
   "cell_type": "code",
   "execution_count": 125,
   "metadata": {},
   "outputs": [],
   "source": [
    "top3_decade = top3_decade.reset_index(drop=True)"
   ]
  },
  {
   "cell_type": "code",
   "execution_count": 114,
   "metadata": {},
   "outputs": [
    {
     "data": {
      "text/plain": [
       "34"
      ]
     },
     "execution_count": 114,
     "metadata": {},
     "output_type": "execute_result"
    }
   ],
   "source": [
    "top3_decade.shape[0]"
   ]
  },
  {
   "cell_type": "code",
   "execution_count": 127,
   "metadata": {
    "scrolled": false
   },
   "outputs": [],
   "source": [
    "list_music = []\n",
    "for item in range(top3_decade.shape[0]):\n",
    "    list_music.append(top3_decade['uri'][item])"
   ]
  },
  {
   "cell_type": "code",
   "execution_count": 129,
   "metadata": {},
   "outputs": [
    {
     "name": "stdout",
     "output_type": "stream",
     "text": [
      "['spotify:track:0mUyMawtxj1CJ76kn9gIZK', 'spotify:track:0k2GOhqsrxDTAbFFSdNJjT', 'spotify:track:47aQT2aV12TyilaoYi1NiD', 'spotify:track:6RX5iL93VZ5fKmyvNXvF1r', 'spotify:track:49FYlytm3dAAraYgpoJZux', 'spotify:track:66ZcOcouenzZEnzTJvoFmH', 'spotify:track:0CAfXk7DXMnon4gLudAp7J', 'spotify:track:7wZUrN8oemZfsEd1CGkbXE', 'spotify:track:6IwKcFdiRQZOWeYNhUiWIv', 'spotify:track:5ztAPqM38EJOL9hmNAUEU7', 'spotify:track:4pqWpYDywe1X7xVPh39XsC', 'spotify:track:11EX5yhxr9Ihl3IN1asrfK', 'spotify:track:4HlFJV71xXKIGcU3kRyttv', 'spotify:track:2GblQ918RbkOs4Yo1Rpkcj', 'spotify:track:0IkKz2J93C94Ei4BvDop7P', 'spotify:track:4lCv7b86sLynZbXhfScfm2', 'spotify:track:4wCmqSrbyCgxEXROQE6vtV', 'spotify:track:3TGRqZ0a2l1LRblBkJoaDx', 'spotify:track:7a86XRg84qjasly9f6bPSD', 'spotify:track:4YMqbFcDIFiCBd02PzUBcM', 'spotify:track:0n4bITAu0Y0nigrz3MFJMb', 'spotify:track:4G8gkOterJn0Ywt6uhqbhp', 'spotify:track:60nZcImufyMA1MKQY3dcCH', 'spotify:track:5jrdCoLpJSvHHorevXBATy', 'spotify:track:2JzZzZUQj3Qff7wapcbKjc', 'spotify:track:50kpGaPAhYJ3sGmk6vplg0', 'spotify:track:09CtPGIpYB4BrO8qb1RGsF', 'spotify:track:1zi7xx7UVEFkmKfv06H8x0', 'spotify:track:6rPO02ozF3bM7NnOV4h6s2', 'spotify:track:0KKkJNfGyhkQ5aFogxQAPU', 'spotify:track:6DCZcSspjsKoFjzjrWoCdn', 'spotify:track:0tgVpDi06FyKpA1z0VMD4v', 'spotify:track:2YpeDb67231RjR0MgVLzsG', 'spotify:track:5p7ujcrUXASCNwRaWNHR1C']\n"
     ]
    }
   ],
   "source": [
    "print(list_music)"
   ]
  },
  {
   "cell_type": "markdown",
   "metadata": {},
   "source": [
    "### ACESSANDO TOKEN "
   ]
  },
  {
   "cell_type": "code",
   "execution_count": 6,
   "metadata": {},
   "outputs": [],
   "source": [
    "import spotify_token as st\n",
    "\n",
    "data = st.start_session(id_conta,senha_conta)\n",
    "access_token = data[0]\n",
    "expiration_date = data[1]"
   ]
  },
  {
   "cell_type": "markdown",
   "metadata": {},
   "source": [
    "### VARIAVEIS"
   ]
  },
  {
   "cell_type": "code",
   "execution_count": 119,
   "metadata": {},
   "outputs": [],
   "source": [
    "id_playlist = '2rPBxFieJMmRYKcxZeX9JG'"
   ]
  },
  {
   "cell_type": "markdown",
   "metadata": {},
   "source": [
    "### ADICIONANDO MUSICAS"
   ]
  },
  {
   "cell_type": "code",
   "execution_count": 130,
   "metadata": {},
   "outputs": [],
   "source": [
    "def add_music_playlist (access_token, id_playlist, list_music ):\n",
    "    '''This function add music in yout playlist'''\n",
    "    \n",
    "    for music in list_music:\n",
    "        headers = {\n",
    "            'Accept': 'application/json',\n",
    "            'Content-Type': 'application/json',\n",
    "            'Authorization': f'Bearer {access_token}',\n",
    "        }\n",
    "\n",
    "        params = (\n",
    "            ('uris', music),\n",
    "        )\n",
    "\n",
    "        response = requests.post(f'https://api.spotify.com/v1/playlists/{id_playlist}/tracks', headers=headers, params=params)"
   ]
  },
  {
   "cell_type": "code",
   "execution_count": 131,
   "metadata": {},
   "outputs": [],
   "source": [
    "add_music_playlist(access_token, id_playlist, list_music)"
   ]
  },
  {
   "cell_type": "markdown",
   "metadata": {},
   "source": [
    "<b> PLAYLIST</b>\n",
    "\n",
    "https://open.spotify.com/playlist/2rPBxFieJMmRYKcxZeX9JG?si=mLTV0n5qQ7u7CnRzUfKAUA"
   ]
  },
  {
   "cell_type": "code",
   "execution_count": null,
   "metadata": {},
   "outputs": [],
   "source": []
  }
 ],
 "metadata": {
  "kernelspec": {
   "display_name": "Python 3",
   "language": "python",
   "name": "python3"
  },
  "language_info": {
   "codemirror_mode": {
    "name": "ipython",
    "version": 3
   },
   "file_extension": ".py",
   "mimetype": "text/x-python",
   "name": "python",
   "nbconvert_exporter": "python",
   "pygments_lexer": "ipython3",
   "version": "3.8.1"
  }
 },
 "nbformat": 4,
 "nbformat_minor": 4
}
